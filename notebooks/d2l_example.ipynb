{
 "cells": [
  {
   "cell_type": "markdown",
   "metadata": {},
   "source": [
    "# D2L (Dive into Deep Learning) 示例\n",
    "\n",
    "使用d2l库进行深度学习实践"
   ]
  },
  {
   "cell_type": "code",
   "execution_count": null,
   "metadata": {},
   "outputs": [],
   "source": [
    "# 环境配置和警告抑制\n",
    "import os\n",
    "import warnings\n",
    "os.environ['TF_CPP_MIN_LOG_LEVEL'] = '2'\n",
    "warnings.filterwarnings('ignore')\n",
    "\n",
    "print(\"✅ 环境配置完成\")"
   ]
  },
  {
   "cell_type": "code",
   "execution_count": null,
   "metadata": {},
   "outputs": [],
   "source": [
    "# 导入必要的库\n",
    "import d2l\n",
    "import tensorflow as tf\n",
    "import numpy as np\n",
    "import matplotlib.pyplot as plt\n",
    "\n",
    "print(f\"d2l版本: {d2l.__version__}\")\n",
    "print(f\"TensorFlow版本: {tf.__version__}\")"
   ]
  },
  {
   "cell_type": "markdown",
   "metadata": {},
   "source": [
    "## 使用d2l工具函数"
   ]
  },
  {
   "cell_type": "code",
   "execution_count": null,
   "metadata": {},
   "outputs": [],
   "source": [
    "# 生成一些示例数据\n",
    "x = tf.range(0, 3 * np.pi, 0.1)\n",
    "y = tf.sin(x)\n",
    "\n",
    "# 使用d2l绘图功能（如果可用）\n",
    "plt.figure(figsize=(10, 6))\n",
    "plt.plot(x.numpy(), y.numpy(), 'b-', label='sin(x)')\n",
    "plt.xlabel('x')\n",
    "plt.ylabel('y')\n",
    "plt.title('使用d2l环境绘制sin函数')\n",
    "plt.legend()\n",
    "plt.grid(True)\n",
    "plt.show()\n",
    "\n",
    "print(\"✅ d2l环境工作正常！\")"
   ]
  },
  {
   "cell_type": "markdown",
   "metadata": {},
   "source": [
    "## 简单的深度学习示例"
   ]
  },
  {
   "cell_type": "code",
   "execution_count": null,
   "metadata": {},
   "outputs": [],
   "source": [
    "# 创建简单的线性模型\n",
    "model = tf.keras.Sequential([\n",
    "    tf.keras.layers.Dense(1, input_shape=(1,))\n",
    "])\n",
    "\n",
    "# 生成训练数据\n",
    "X_train = tf.random.normal((100, 1))\n",
    "y_train = 2 * X_train + 1 + 0.1 * tf.random.normal((100, 1))\n",
    "\n",
    "# 编译和训练模型\n",
    "model.compile(optimizer='adam', loss='mse')\n",
    "history = model.fit(X_train, y_train, epochs=50, verbose=0)\n",
    "\n",
    "# 预测和可视化\n",
    "X_test = tf.linspace(-3.0, 3.0, 100)\n",
    "X_test = tf.reshape(X_test, [-1, 1])\n",
    "y_pred = model.predict(X_test, verbose=0)\n",
    "\n",
    "plt.figure(figsize=(10, 6))\n",
    "plt.scatter(X_train.numpy(), y_train.numpy(), alpha=0.6, label='训练数据')\n",
    "plt.plot(X_test.numpy(), y_pred, 'r-', linewidth=2, label='模型预测')\n",
    "plt.xlabel('X')\n",
    "plt.ylabel('y')\n",
    "plt.title('线性回归示例 - 使用d2l环境')\n",
    "plt.legend()\n",
    "plt.grid(True)\n",
    "plt.show()\n",
    "\n",
    "print(f\"最终损失: {history.history['loss'][-1]:.4f}\")"
   ]
  }
 ],
 "metadata": {
  "kernelspec": {
   "display_name": "TensorFlow Env",
   "language": "python",
   "name": "tf_env"
  },
  "language_info": {
   "codemirror_mode": {
    "name": "ipython",
    "version": 3
   },
   "file_extension": ".py",
   "name": "python",
   "nbconvert_exporter": "python",
   "pygments_lexer": "ipython3",
   "version": "3.13.0"
  }
 },
 "nbformat": 4,
 "nbformat_minor": 4
}