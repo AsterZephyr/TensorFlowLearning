{
 "cells": [
  {
   "cell_type": "markdown",
   "metadata": {},
   "source": [
    "# TensorFlow 基础入门\n",
    "\n",
    "本notebook包含TensorFlow的基础概念和操作示例。"
   ]
  },
  {
   "cell_type": "code",
   "execution_count": null,
   "metadata": {},
   "source": [
    "import tensorflow as tf\n",
    "import numpy as np\n",
    "import matplotlib.pyplot as plt\n",
    "\n",
    "print(f\"TensorFlow version: {tf.__version__}\")\n",
    "print(f\"GPU available: {tf.config.list_physical_devices('GPU')}\")"
   ]
  },
  {
   "cell_type": "markdown",
   "metadata": {},
   "source": [
    "## 基础张量操作"
   ]
  },
  {
   "cell_type": "code",
   "execution_count": null,
   "metadata": {},
   "source": [
    "# 创建张量\n",
    "tensor_a = tf.constant([1, 2, 3, 4])\n",
    "tensor_b = tf.constant([[1.0, 2.0], [3.0, 4.0]])\n",
    "\n",
    "print(\"Tensor A:\", tensor_a)\n",
    "print(\"Tensor B:\", tensor_b)\n",
    "print(\"Shape of B:\", tensor_b.shape)\n",
    "print(\"Data type of B:\", tensor_b.dtype)"
   ]
  }
 ],
 "metadata": {
  "kernelspec": {
   "display_name": "Python 3",
   "language": "python",
   "name": "python3"
  },
  "language_info": {
   "name": "python",
   "version": "3.13.0"
  }
 },
 "nbformat": 4,
 "nbformat_minor": 4
}