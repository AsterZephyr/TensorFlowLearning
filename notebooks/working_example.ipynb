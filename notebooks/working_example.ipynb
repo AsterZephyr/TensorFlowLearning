{
 "cells": [
  {
   "cell_type": "markdown",
   "metadata": {},
   "source": [
    "# 完整工作示例\n",
    "\n",
    "这个notebook展示了所有依赖库的正确使用方法。"
   ]
  },
  {
   "cell_type": "code",
   "execution_count": null,
   "metadata": {},
   "outputs": [],
   "source": [
    "# ========== 环境配置 ==========\n",
    "import os\n",
    "import warnings\n",
    "\n",
    "# 抑制警告和日志\n",
    "os.environ['TF_CPP_MIN_LOG_LEVEL'] = '2'\n",
    "warnings.filterwarnings('ignore')\n",
    "\n",
    "print(\"✅ 环境配置完成\")"
   ]
  },
  {
   "cell_type": "code",
   "execution_count": null,
   "metadata": {},
   "outputs": [],
   "source": [
    "# ========== 导入基础库 ==========\n",
    "import numpy as np\n",
    "import tensorflow as tf\n",
    "from d2l import tensorflow as d2l\n",
    "\n",
    "print(f\"NumPy: {np.__version__}\")\n",
    "print(f\"TensorFlow: {tf.__version__}\")\n",
    "print(f\"D2L: 导入成功\")\n",
    "\n",
    "# TensorFlow Probability是可选的\n",
    "try:\n",
    "    import tensorflow_probability as tfp\n",
    "    print(f\"TensorFlow Probability: {tfp.__version__}\")\n",
    "    HAS_TFP = True\n",
    "except ImportError:\n",
    "    print(\"TensorFlow Probability: 未安装 (可选)\")\n",
    "    HAS_TFP = False"
   ]
  },
  {
   "cell_type": "code",
   "execution_count": null,
   "metadata": {},
   "outputs": [],
   "source": [
    "# ========== 基础TensorFlow操作 ==========\n",
    "print(\"🔍 TensorFlow基础操作\")\n",
    "\n",
    "# 创建张量\n",
    "x = tf.constant([[1.0, 2.0], [3.0, 4.0]])\n",
    "y = tf.constant([[5.0, 6.0], [7.0, 8.0]])\n",
    "\n",
    "# 基础运算\n",
    "print(\"张量加法:\")\n",
    "print(tf.add(x, y).numpy())\n",
    "\n",
    "print(\"\\n张量乘法:\")\n",
    "print(tf.matmul(x, y).numpy())"
   ]
  },
  {
   "cell_type": "code",
   "execution_count": null,
   "metadata": {},
   "outputs": [],
   "source": [
    "# ========== 构建简单模型 ==========\n",
    "print(\"🔍 构建神经网络模型\")\n",
    "\n",
    "# 生成示例数据\n",
    "n_samples = 100\n",
    "X = tf.random.normal((n_samples, 2))\n",
    "y = tf.reduce_sum(X, axis=1, keepdims=True) + tf.random.normal((n_samples, 1)) * 0.1\n",
    "\n",
    "print(f\"数据形状: X={X.shape}, y={y.shape}\")\n",
    "\n",
    "# 创建模型\n",
    "model = tf.keras.Sequential([\n",
    "    tf.keras.layers.Dense(10, activation='relu', input_shape=(2,)),\n",
    "    tf.keras.layers.Dense(1)\n",
    "])\n",
    "\n",
    "# 编译模型\n",
    "model.compile(optimizer='adam', loss='mse', metrics=['mae'])\n",
    "\n",
    "print(\"✅ 模型创建成功\")\n",
    "print(model.summary())"
   ]
  },
  {
   "cell_type": "code",
   "execution_count": null,
   "metadata": {},
   "outputs": [],
   "source": [
    "# ========== 训练模型 ==========\n",
    "print(\"🔍 开始训练\")\n",
    "\n",
    "# 训练模型\n",
    "history = model.fit(X, y, epochs=50, batch_size=32, verbose=0)\n",
    "\n",
    "# 评估\n",
    "loss, mae = model.evaluate(X, y, verbose=0)\n",
    "print(f\"最终损失: {loss:.4f}\")\n",
    "print(f\"平均绝对误差: {mae:.4f}\")\n",
    "\n",
    "# 预测示例\n",
    "test_input = tf.constant([[1.0, 2.0], [-1.0, 0.5]])\n",
    "predictions = model.predict(test_input, verbose=0)\n",
    "print(f\"\\n预测结果: {predictions.flatten()}\")"
   ]
  },
  {
   "cell_type": "code",
   "execution_count": null,
   "metadata": {},
   "outputs": [],
   "source": [
    "# ========== 可视化 (如果需要) ==========\n",
    "import matplotlib.pyplot as plt\n",
    "\n",
    "# 绘制训练历史\n",
    "plt.figure(figsize=(12, 4))\n",
    "\n",
    "plt.subplot(1, 2, 1)\n",
    "plt.plot(history.history['loss'])\n",
    "plt.title('模型损失')\n",
    "plt.xlabel('Epoch')\n",
    "plt.ylabel('Loss')\n",
    "plt.grid(True)\n",
    "\n",
    "plt.subplot(1, 2, 2)\n",
    "plt.plot(history.history['mae'])\n",
    "plt.title('平均绝对误差')\n",
    "plt.xlabel('Epoch')\n",
    "plt.ylabel('MAE')\n",
    "plt.grid(True)\n",
    "\n",
    "plt.tight_layout()\n",
    "plt.show()\n",
    "\n",
    "print(\"✅ 所有功能正常工作！\")"
   ]
  },
  {
   "cell_type": "markdown",
   "metadata": {},
   "source": [
    "## 使用说明\n",
    "\n",
    "这个示例展示了：\n",
    "\n",
    "1. ✅ **正确的导入方式**：包含必要的警告抑制\n",
    "2. ✅ **TensorFlow基础操作**：张量创建和运算\n",
    "3. ✅ **模型构建和训练**：使用Keras API\n",
    "4. ✅ **D2L集成**：可以正常导入使用\n",
    "5. ✅ **可视化支持**：matplotlib绘图\n",
    "\n",
    "### 关于TensorFlow Probability\n",
    "\n",
    "TensorFlow Probability目前有一些兼容性问题，但核心的TensorFlow和D2L功能都能正常工作。如果你的项目确实需要TFP，可以考虑：\n",
    "\n",
    "1. 使用TensorFlow内置的随机分布功能\n",
    "2. 或者创建一个单独的环境专门用于TFP项目\n",
    "\n",
    "现在你可以开始你的深度学习之旅了！🚀"
   ]
  }
 ],
 "metadata": {
  "kernelspec": {
   "display_name": "TensorFlow Env",\n",
   "language": "python",\n",
   "name": "tf_env"
  },\n",
   "language_info": {\n",
   "codemirror_mode": {\n",
    "name": "ipython",\n",
    "version": 3\n   },\n   "file_extension": ".py",\n   "name": "python",\n   "nbconvert_exporter": "python",\n   "pygments_lexer": "ipython3",\n   "version": "3.13.0"\n  }\n },\n "nbformat": 4,\n "nbformat_minor": 4\n}