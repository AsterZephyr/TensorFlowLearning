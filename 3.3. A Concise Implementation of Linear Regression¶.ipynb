{
 "cells": [
  {
   "cell_type": "code",
   "execution_count": 3,
   "id": "179049c1-ac66-49bf-adc9-cd7af8e8c4d5",
   "metadata": {},
   "outputs": [],
   "source": [
    "import numpy as np\n",
    "import tensorflow as tf\n",
    "from d2l import tensorflow as d2l\n",
    "\n",
    "true_w = tf.constant([2, -3.4])\n",
    "true_b = 4.2\n",
    "features, labels = d2l.synthetic_data(true_w, true_b, 1000)"
   ]
  },
  {
   "cell_type": "code",
   "execution_count": 4,
   "id": "aed5fc95-afbf-4070-badb-a0024ebc1d3a",
   "metadata": {},
   "outputs": [],
   "source": [
    "def load_array(data_arrays, batch_size, is_train=True):  #@save\n",
    "    \"\"\"构造一个TensorFlow数据迭代器\"\"\"\n",
    "    dataset = tf.data.Dataset.from_tensor_slices(data_arrays)\n",
    "    if is_train:\n",
    "        dataset = dataset.shuffle(buffer_size=1000)\n",
    "    dataset = dataset.batch(batch_size)\n",
    "    return dataset\n",
    "\n",
    "batch_size = 10\n",
    "data_iter = load_array((features, labels), batch_size)"
   ]
  },
  {
   "cell_type": "code",
   "execution_count": 13,
   "id": "dc58f91e-faaa-45fb-8fa8-d00de65b608d",
   "metadata": {},
   "outputs": [
    {
     "data": {
      "text/plain": [
       "(<tf.Tensor: shape=(10, 2), dtype=float32, numpy=\n",
       " array([[ 1.4893348 ,  2.0870013 ],\n",
       "        [-0.8604161 ,  0.09312131],\n",
       "        [ 0.57311726, -0.35419077],\n",
       "        [ 0.1657205 , -0.04936584],\n",
       "        [-0.53297627,  2.7045105 ],\n",
       "        [ 0.5312142 , -1.0097433 ],\n",
       "        [ 0.0870741 ,  0.83976233],\n",
       "        [ 1.0324683 ,  0.52178055],\n",
       "        [-0.20697817, -0.83079   ],\n",
       "        [ 0.16860516,  1.5866791 ]], dtype=float32)>,\n",
       " <tf.Tensor: shape=(10, 1), dtype=float32, numpy=\n",
       " array([[ 0.08555359],\n",
       "        [ 2.1699927 ],\n",
       "        [ 6.5440516 ],\n",
       "        [ 4.7203965 ],\n",
       "        [-6.0726805 ],\n",
       "        [ 8.688414  ],\n",
       "        [ 1.528385  ],\n",
       "        [ 4.4781084 ],\n",
       "        [ 6.603953  ],\n",
       "        [-0.8712809 ]], dtype=float32)>)"
      ]
     },
     "execution_count": 13,
     "metadata": {},
     "output_type": "execute_result"
    }
   ],
   "source": [
    "next(iter(data_iter))"
   ]
  },
  {
   "cell_type": "code",
   "execution_count": 6,
   "id": "ec29e2c7-224d-4cff-99ba-b1f1b1b79835",
   "metadata": {},
   "outputs": [],
   "source": [
    "# keras是TensorFlow的高级API\n",
    "net = tf.keras.Sequential()\n",
    "net.add(tf.keras.layers.Dense(1))"
   ]
  },
  {
   "cell_type": "code",
   "execution_count": 7,
   "id": "1b34cc0c-a4fa-46bd-9d10-90cd4a37e379",
   "metadata": {},
   "outputs": [],
   "source": [
    "initializer = tf.initializers.RandomNormal(stddev=0.01)\n",
    "net = tf.keras.Sequential()\n",
    "net.add(tf.keras.layers.Dense(1, kernel_initializer=initializer))"
   ]
  },
  {
   "cell_type": "code",
   "execution_count": 8,
   "id": "fb82bb33-2d55-48dc-8427-a7d9189067e0",
   "metadata": {},
   "outputs": [],
   "source": [
    "loss = tf.keras.losses.MeanSquaredError()"
   ]
  },
  {
   "cell_type": "code",
   "execution_count": 10,
   "id": "f07324a5-bc85-4248-aa3a-0c7fc9411601",
   "metadata": {},
   "outputs": [],
   "source": [
    "trainer = tf.keras.optimizers.SGD(learning_rate=0.03)"
   ]
  },
  {
   "cell_type": "code",
   "execution_count": 11,
   "id": "092aee06-cde2-442b-93c4-e2c6f1914b18",
   "metadata": {},
   "outputs": [
    {
     "name": "stderr",
     "output_type": "stream",
     "text": [
      "2025-08-03 14:56:56.363575: I tensorflow/core/framework/local_rendezvous.cc:407] Local rendezvous is aborting with status: OUT_OF_RANGE: End of sequence\n",
      "2025-08-03 14:56:56.485642: I tensorflow/core/framework/local_rendezvous.cc:407] Local rendezvous is aborting with status: OUT_OF_RANGE: End of sequence\n"
     ]
    },
    {
     "name": "stdout",
     "output_type": "stream",
     "text": [
      "epoch 1, loss 0.000236\n",
      "epoch 2, loss 0.000098\n",
      "epoch 3, loss 0.000097\n"
     ]
    }
   ],
   "source": [
    "num_epochs = 3\n",
    "for epoch in range(num_epochs):\n",
    "    for X, y in data_iter:\n",
    "        with tf.GradientTape() as tape:\n",
    "            l = loss(net(X, training=True), y)\n",
    "        grads = tape.gradient(l, net.trainable_variables)\n",
    "        trainer.apply_gradients(zip(grads, net.trainable_variables))\n",
    "    l = loss(net(features), labels)\n",
    "    print(f'epoch {epoch + 1}, loss {l:f}')"
   ]
  },
  {
   "cell_type": "code",
   "execution_count": 14,
   "id": "d3a86755-2e0a-4240-8894-d8faaae5bf23",
   "metadata": {},
   "outputs": [
    {
     "name": "stdout",
     "output_type": "stream",
     "text": [
      "w的估计误差： tf.Tensor([-0.00017095 -0.00013328], shape=(2,), dtype=float32)\n",
      "b的估计误差： [-0.000319]\n"
     ]
    }
   ],
   "source": [
    "w = net.get_weights()[0]\n",
    "print('w的估计误差：', true_w - tf.reshape(w, true_w.shape))\n",
    "b = net.get_weights()[1]\n",
    "print('b的估计误差：', true_b - b)"
   ]
  },
  {
   "cell_type": "code",
   "execution_count": null,
   "id": "c6222292-ebb1-47c0-b06a-236dd270efa0",
   "metadata": {},
   "outputs": [],
   "source": []
  }
 ],
 "metadata": {
  "kernelspec": {
   "display_name": "Python 3 (ipykernel)",
   "language": "python",
   "name": "python3"
  },
  "language_info": {
   "codemirror_mode": {
    "name": "ipython",
    "version": 3
   },
   "file_extension": ".py",
   "mimetype": "text/x-python",
   "name": "python",
   "nbconvert_exporter": "python",
   "pygments_lexer": "ipython3",
   "version": "3.13.4"
  }
 },
 "nbformat": 4,
 "nbformat_minor": 5
}
