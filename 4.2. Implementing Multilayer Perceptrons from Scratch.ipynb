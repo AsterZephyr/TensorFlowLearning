{
 "cells": [
  {
   "cell_type": "code",
   "execution_count": 1,
   "id": "fd6a11a3-4425-4b89-a094-81d5e239dc16",
   "metadata": {},
   "outputs": [],
   "source": [
    "import tensorflow as tf\n",
    "from d2l import tensorflow as d2l\n",
    "\n",
    "batch_size = 256\n",
    "train_iter, test_iter = d2l.load_data_fashion_mnist(batch_size)"
   ]
  },
  {
   "cell_type": "code",
   "execution_count": 2,
   "id": "05ecbdf2-a025-453a-b310-9e04fd2d4df1",
   "metadata": {},
   "outputs": [],
   "source": [
    "num_inputs, num_outputs, num_hiddens = 784, 10, 256\n",
    "\n",
    "W1 = tf.Variable(tf.random.normal(\n",
    "    shape=(num_inputs, num_hiddens), mean=0, stddev=0.01))\n",
    "b1 = tf.Variable(tf.zeros(num_hiddens))\n",
    "W2 = tf.Variable(tf.random.normal(\n",
    "    shape=(num_hiddens, num_outputs), mean=0, stddev=0.01))\n",
    "b2 = tf.Variable(tf.zeros(num_outputs))\n",
    "\n",
    "params = [W1, b1, W2, b2]"
   ]
  },
  {
   "cell_type": "code",
   "execution_count": 4,
   "id": "7653d279-bb4b-4e86-b1c7-21b80cbb1609",
   "metadata": {},
   "outputs": [],
   "source": [
    "def relu(X):\n",
    "    return tf.math.maximum(X, 0)"
   ]
  },
  {
   "cell_type": "code",
   "execution_count": 5,
   "id": "1ec7b300-e6fc-491e-877b-74287b299aa0",
   "metadata": {},
   "outputs": [],
   "source": [
    "def net(X):\n",
    "    X = tf.reshape(X, (-1, num_inputs))\n",
    "    H = relu(tf.matmul(X, W1) + b1)\n",
    "    return tf.matmul(H, W2) + b2"
   ]
  },
  {
   "cell_type": "code",
   "execution_count": 7,
   "id": "6a06dda5-17b2-4b22-9e44-2c898fc92bd4",
   "metadata": {},
   "outputs": [],
   "source": [
    "def loss(y_hat, y):\n",
    "    return tf.losses.sparse_categorical_crossentropy(\n",
    "        y, y_hat, from_logits=True)"
   ]
  },
  {
   "cell_type": "code",
   "execution_count": 8,
   "id": "8afa754c-ed2f-41e5-be5c-8cf302338cb1",
   "metadata": {},
   "outputs": [
    {
     "ename": "AttributeError",
     "evalue": "module 'd2l.tensorflow' has no attribute 'Updater'",
     "output_type": "error",
     "traceback": [
      "\u001b[31m---------------------------------------------------------------------------\u001b[39m",
      "\u001b[31mAttributeError\u001b[39m                            Traceback (most recent call last)",
      "\u001b[36mCell\u001b[39m\u001b[36m \u001b[39m\u001b[32mIn[8]\u001b[39m\u001b[32m, line 2\u001b[39m\n\u001b[32m      1\u001b[39m num_epochs, lr = \u001b[32m10\u001b[39m, \u001b[32m0.1\u001b[39m\n\u001b[32m----> \u001b[39m\u001b[32m2\u001b[39m updater = \u001b[43md2l\u001b[49m\u001b[43m.\u001b[49m\u001b[43mUpdater\u001b[49m([W1, W2, b1, b2], lr)\n\u001b[32m      3\u001b[39m d2l.train_ch3(net, train_iter, test_iter, loss, num_epochs, updater)\n",
      "\u001b[31mAttributeError\u001b[39m: module 'd2l.tensorflow' has no attribute 'Updater'"
     ]
    }
   ],
   "source": [
    "num_epochs, lr = 10, 0.1\n",
    "updater = d2l.Updater([W1, W2, b1, b2], lr)\n",
    "d2l.train_ch3(net, train_iter, test_iter, loss, num_epochs, updater)"
   ]
  },
  {
   "cell_type": "code",
   "execution_count": 9,
   "id": "c5f0ea9e-59bf-4ffe-9ff5-ced96c5e5022",
   "metadata": {},
   "outputs": [
    {
     "ename": "AttributeError",
     "evalue": "module 'd2l.tensorflow' has no attribute 'Updater'",
     "output_type": "error",
     "traceback": [
      "\u001b[31m---------------------------------------------------------------------------\u001b[39m",
      "\u001b[31mAttributeError\u001b[39m                            Traceback (most recent call last)",
      "\u001b[36mCell\u001b[39m\u001b[36m \u001b[39m\u001b[32mIn[9]\u001b[39m\u001b[32m, line 2\u001b[39m\n\u001b[32m      1\u001b[39m num_epochs, lr = \u001b[32m10\u001b[39m, \u001b[32m0.1\u001b[39m\n\u001b[32m----> \u001b[39m\u001b[32m2\u001b[39m updater = \u001b[43md2l\u001b[49m\u001b[43m.\u001b[49m\u001b[43mUpdater\u001b[49m([W1, W2, b1, b2], lr)\n\u001b[32m      3\u001b[39m d2l.train_ch3(net, train_iter, test_iter, loss, num_epochs, updater)\n",
      "\u001b[31mAttributeError\u001b[39m: module 'd2l.tensorflow' has no attribute 'Updater'"
     ]
    }
   ],
   "source": [
    "num_epochs, lr = 10, 0.1\n",
    "updater = d2l.Updater([W1, W2, b1, b2], lr)\n",
    "d2l.train_ch3(net, train_iter, test_iter, loss, num_epochs, updater)"
   ]
  }
 ],
 "metadata": {
  "kernelspec": {
   "display_name": "Python 3 (ipykernel)",
   "language": "python",
   "name": "python3"
  },
  "language_info": {
   "codemirror_mode": {
    "name": "ipython",
    "version": 3
   },
   "file_extension": ".py",
   "mimetype": "text/x-python",
   "name": "python",
   "nbconvert_exporter": "python",
   "pygments_lexer": "ipython3",
   "version": "3.13.4"
  }
 },
 "nbformat": 4,
 "nbformat_minor": 5
}
