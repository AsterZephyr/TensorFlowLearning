{
 "cells": [
  {
   "cell_type": "code",
   "execution_count": 1,
   "id": "4a2237c6-2987-41ee-85eb-87cf523c2902",
   "metadata": {},
   "outputs": [],
   "source": [
    "import tensorflow as tf\n",
    "from d2l import tensorflow as d2l"
   ]
  },
  {
   "cell_type": "code",
   "execution_count": 2,
   "id": "352cfd73-aa1d-428e-a222-1429b4a1f971",
   "metadata": {},
   "outputs": [],
   "source": [
    "net = tf.keras.models.Sequential([\n",
    "    tf.keras.layers.Flatten(),\n",
    "    tf.keras.layers.Dense(256, activation='relu'),\n",
    "    tf.keras.layers.Dense(10)])"
   ]
  },
  {
   "cell_type": "code",
   "execution_count": 3,
   "id": "482bdcf1-d12b-424e-abe5-af37be647f0b",
   "metadata": {},
   "outputs": [
    {
     "ename": "AttributeError",
     "evalue": "module 'd2l.tensorflow' has no attribute 'train_ch3'",
     "output_type": "error",
     "traceback": [
      "\u001b[31m---------------------------------------------------------------------------\u001b[39m",
      "\u001b[31mAttributeError\u001b[39m                            Traceback (most recent call last)",
      "\u001b[36mCell\u001b[39m\u001b[36m \u001b[39m\u001b[32mIn[3]\u001b[39m\u001b[32m, line 6\u001b[39m\n\u001b[32m      3\u001b[39m trainer = tf.keras.optimizers.SGD(learning_rate=lr)\n\u001b[32m      5\u001b[39m train_iter, test_iter = d2l.load_data_fashion_mnist(batch_size)\n\u001b[32m----> \u001b[39m\u001b[32m6\u001b[39m \u001b[43md2l\u001b[49m\u001b[43m.\u001b[49m\u001b[43mtrain_ch3\u001b[49m(net, train_iter, test_iter, loss, num_epochs, trainer)\n",
      "\u001b[31mAttributeError\u001b[39m: module 'd2l.tensorflow' has no attribute 'train_ch3'"
     ]
    }
   ],
   "source": [
    "batch_size, lr, num_epochs = 256, 0.1, 10\n",
    "loss = tf.keras.losses.SparseCategoricalCrossentropy(from_logits=True)\n",
    "trainer = tf.keras.optimizers.SGD(learning_rate=lr)\n",
    "\n",
    "train_iter, test_iter = d2l.load_data_fashion_mnist(batch_size)\n",
    "d2l.train_ch3(net, train_iter, test_iter, loss, num_epochs, trainer)"
   ]
  },
  {
   "cell_type": "code",
   "execution_count": null,
   "id": "a625e6ed-a6ae-4226-a45e-67d14b576a55",
   "metadata": {},
   "outputs": [],
   "source": []
  }
 ],
 "metadata": {
  "kernelspec": {
   "display_name": "Python 3 (ipykernel)",
   "language": "python",
   "name": "python3"
  },
  "language_info": {
   "codemirror_mode": {
    "name": "ipython",
    "version": 3
   },
   "file_extension": ".py",
   "mimetype": "text/x-python",
   "name": "python",
   "nbconvert_exporter": "python",
   "pygments_lexer": "ipython3",
   "version": "3.13.4"
  }
 },
 "nbformat": 4,
 "nbformat_minor": 5
}
